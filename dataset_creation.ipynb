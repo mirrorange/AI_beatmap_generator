{
 "cells": [
  {
   "cell_type": "markdown",
   "metadata": {},
   "source": [
    "## DataSet Creation"
   ]
  },
  {
   "cell_type": "code",
   "execution_count": 1,
   "metadata": {},
   "outputs": [],
   "source": [
    "import zipfile\n",
    "import os\n",
    "import json\n",
    "import librosa\n",
    "import numpy as np"
   ]
  },
  {
   "cell_type": "code",
   "execution_count": 2,
   "metadata": {},
   "outputs": [],
   "source": [
    "mcz_files = os.listdir(\"original_beatmaps\")"
   ]
  },
  {
   "cell_type": "code",
   "execution_count": 3,
   "metadata": {},
   "outputs": [],
   "source": [
    "def load_audio(audio_file):\n",
    "    x , sr = librosa.load(audio_file, sr=20000)\n",
    "    return x, sr"
   ]
  },
  {
   "cell_type": "code",
   "execution_count": 4,
   "metadata": {},
   "outputs": [],
   "source": [
    "def hcf(x, y):\n",
    "   \"\"\"该函数返回两个数的最大公约数\"\"\"\n",
    " \n",
    "   # 获取最小值\n",
    "   if x > y:\n",
    "       smaller = y\n",
    "   else:\n",
    "       smaller = x\n",
    "   _hcf = 1\n",
    "   for i in range(1,smaller + 1):\n",
    "       if((x % i == 0) and (y % i == 0)):\n",
    "           _hcf = i\n",
    " \n",
    "   return _hcf"
   ]
  },
  {
   "cell_type": "code",
   "execution_count": 5,
   "metadata": {},
   "outputs": [],
   "source": [
    "def get_audio_features(x, sr, bpm, position, offset):\n",
    "    one_beat = 60 / bpm\n",
    "    beat = position * one_beat / 4 - offset/1000\n",
    "    \n",
    "    start = beat\n",
    "    end = start + one_beat / 8\n",
    "    \n",
    "    end2 = start + one_beat / 4\n",
    "    if start < 0:\n",
    "        start = 0\n",
    "    \n",
    "#     print(start, end)\n",
    "    start_index = int(sr * start)\n",
    "    end_index = int(sr * end)\n",
    "    \n",
    "#     start_index2 = int(sr * start2)\n",
    "    end_index2 = int(sr * end2)\n",
    "    \n",
    "    features = []\n",
    "    mfcc1 = librosa.feature.mfcc(y=x[start_index:end_index], sr=sr, n_mfcc=32)\n",
    "    mfcc2 = librosa.feature.mfcc(y=x[end_index:end_index2], sr=sr, n_mfcc=32)\n",
    "    \n",
    "    features += [float(np.mean(e)) for e in mfcc1]\n",
    "    features += [float(np.mean(e)) for e in mfcc2]\n",
    "    \n",
    "    return features"
   ]
  },
  {
   "cell_type": "code",
   "execution_count": 6,
   "metadata": {},
   "outputs": [],
   "source": [
    "def get_columns_list(notes):\n",
    "    columns_list = []\n",
    "    columns = {\n",
    "        0: {},\n",
    "        1: {},\n",
    "        2: {},\n",
    "        3: {}\n",
    "    }\n",
    "\n",
    "    for note in notes:\n",
    "        if 'column' in note:\n",
    "            beat = note['beat'][0]\n",
    "            sub_beat = note['beat'][1]\n",
    "            split_count = note['beat'][2]\n",
    "            if split_count == 8:\n",
    "                if (len(columns[0]) != 0) and (len(columns[1]) != 0) \\\n",
    "                    and (len(columns[2]) != 0)and (len(columns[3]) != 0):\n",
    "                    columns_list.append(columns)\n",
    "                    columns = {0: {}, 1: {}, 2: {}, 3: {}}\n",
    "                continue\n",
    "            if split_count != 4:\n",
    "                if sub_beat == 0:\n",
    "                    split_count = 4\n",
    "                else:\n",
    "                    _hcf = hcf(sub_beat, split_count)\n",
    "                    sub_beat = int(sub_beat / _hcf)\n",
    "                    split_count = int(split_count / _hcf)\n",
    "                if split_count == 2:\n",
    "                    sub_beat *= 2\n",
    "                    split_count *= 2\n",
    "                if split_count == 1:\n",
    "                    sub_beat *= 4\n",
    "                    split_count *= 4\n",
    "                elif split_count != 4:\n",
    "                    if (len(columns[0]) != 0) and (len(columns[1]) != 0) \\\n",
    "                        and (len(columns[2]) != 0)and (len(columns[3]) != 0):\n",
    "                        columns_list.append(columns)\n",
    "                        columns = {0: {}, 1: {}, 2: {}, 3: {}}\n",
    "                    continue\n",
    "\n",
    "            position = beat * 4 + sub_beat\n",
    "            which_col = note[\"column\"]\n",
    "            if(which_col >= 4):\n",
    "                continue\n",
    "            if \"endbeat\" in note:\n",
    "                end_position = note[\"endbeat\"][0] * 4 + int(note[\"endbeat\"][1] / note[\"endbeat\"][2] * 4)\n",
    "                if end_position == position:\n",
    "                    columns[which_col][position] = 1\n",
    "                else:\n",
    "                    for i in range(position, end_position+1):\n",
    "                        columns[which_col][i] = 2\n",
    "            else:\n",
    "                columns[which_col][position] = 1\n",
    "    return columns_list"
   ]
  },
  {
   "cell_type": "code",
   "execution_count": 7,
   "metadata": {},
   "outputs": [],
   "source": [
    "def get_columns_min_max(columns):\n",
    "    _min = 10000000000\n",
    "    _max = 0\n",
    "    for col in columns.keys():\n",
    "        column = columns[col]\n",
    "        if max(column.keys()) > _max:\n",
    "            _max = max(column.keys())\n",
    "\n",
    "        if min(column.keys()) < _min:\n",
    "            _min = min(column.keys())\n",
    "    return _min, _max\n",
    "    "
   ]
  },
  {
   "cell_type": "code",
   "execution_count": 8,
   "metadata": {},
   "outputs": [],
   "source": [
    "def get_one_data(start, end, columns, bpm, x_, sr, offset):\n",
    "    # 判断是否有beat\n",
    "    x0 = []\n",
    "    y0 = []\n",
    "    \n",
    "    # 判断note的键型\n",
    "    x1 = []\n",
    "    y1 = []\n",
    "    \n",
    "    \n",
    "     # 判断是否有long_note\n",
    "    x2 = []\n",
    "    y2 = []\n",
    "    \n",
    "    # 判断long_note的键型\n",
    "    x3 = []\n",
    "    y3 = []\n",
    "    for i in range(start, end):\n",
    "        audio_features = get_audio_features(x_, sr, bpm, i, offset)\n",
    "        x0.append(audio_features)\n",
    "        x2.append(audio_features)\n",
    "        beat_count = 0\n",
    "        has_beat = False\n",
    "        has_ln = False\n",
    "        long_note_count = 0\n",
    "        # column 0\n",
    "        if i in columns[0]:\n",
    "            if columns[0][i] == 1:\n",
    "                has_beat = True\n",
    "                beat_count += 1\n",
    "            else:\n",
    "                has_ln = True\n",
    "                long_note_count += 1\n",
    "            \n",
    "        \n",
    "        # column 1\n",
    "        if i in columns[1]:\n",
    "            if columns[1][i] == 1:\n",
    "                has_beat = True\n",
    "                beat_count += 2\n",
    "            else:\n",
    "                has_ln = True\n",
    "                long_note_count += 2\n",
    "            \n",
    "        # column 2\n",
    "        if i in columns[2]:\n",
    "            if columns[2][i] == 1:\n",
    "                has_beat = True\n",
    "                beat_count += 2*2 \n",
    "            else:\n",
    "                has_ln = True\n",
    "                long_note_count += 2*2\n",
    "        \n",
    "        # column 3\n",
    "        if i in columns[3]:\n",
    "            if columns[3][i] == 1:\n",
    "                has_beat = True\n",
    "                beat_count += 2*2*2\n",
    "            else:\n",
    "                has_ln = True\n",
    "                long_note_count += 2*2*2\n",
    "        \n",
    "        y0.append(int(has_beat))\n",
    "        \n",
    "        if has_beat:\n",
    "            x1.append(audio_features)\n",
    "            y1.append(beat_count)\n",
    "            \n",
    "        y2.append(int(has_ln))\n",
    "        \n",
    "        if has_ln:\n",
    "            x3.append(audio_features)\n",
    "            y3.append(long_note_count)\n",
    "        \n",
    "    return x0, y0, x1, y1, x2, y2, x3, y3"
   ]
  },
  {
   "cell_type": "code",
   "execution_count": 9,
   "metadata": {
    "scrolled": true,
    "tags": []
   },
   "outputs": [
    {
     "output_type": "stream",
     "name": "stdout",
     "text": "0 002051846.mcz\n\t 4K EXHAUST Lv.26 {'beat': [0, 0, 1], 'bpm': 222.00000000000026} {'beat': [0, 0, 1], 'sound': 'Song.ogg', 'vol': 100, 'offset': 142, 'type': 1} \n\nSong.ogg 222.00000000000026 142\n2357834 20000 \n\n1 015708939.mcz\n\t 4K Master Lv.24 {'beat': [0, 0, 1], 'bpm': 192, 'signature': 4, 'vol': 5} {'beat': [410, 1, 2], 'column': 1} \n\n"
    },
    {
     "output_type": "error",
     "ename": "KeyError",
     "evalue": "4",
     "traceback": [
      "\u001b[1;31m---------------------------------------------------------------------------\u001b[0m",
      "\u001b[1;31mKeyError\u001b[0m                                  Traceback (most recent call last)",
      "\u001b[1;32m<ipython-input-9-3a0d59433ec6>\u001b[0m in \u001b[0;36m<module>\u001b[1;34m\u001b[0m\n\u001b[0;32m     33\u001b[0m     \u001b[0mnotes\u001b[0m \u001b[1;33m=\u001b[0m \u001b[0mmc_data\u001b[0m\u001b[1;33m[\u001b[0m\u001b[1;34m\"note\"\u001b[0m\u001b[1;33m]\u001b[0m\u001b[1;33m\u001b[0m\u001b[1;33m\u001b[0m\u001b[0m\n\u001b[0;32m     34\u001b[0m     \u001b[0mnotes\u001b[0m \u001b[1;33m=\u001b[0m \u001b[0mnotes\u001b[0m\u001b[1;33m[\u001b[0m\u001b[1;33m:\u001b[0m\u001b[0mlen\u001b[0m\u001b[1;33m(\u001b[0m\u001b[0mnotes\u001b[0m\u001b[1;33m)\u001b[0m\u001b[1;33m-\u001b[0m\u001b[1;36m1\u001b[0m\u001b[1;33m]\u001b[0m\u001b[1;33m\u001b[0m\u001b[1;33m\u001b[0m\u001b[0m\n\u001b[1;32m---> 35\u001b[1;33m     \u001b[0mcolumns_list\u001b[0m \u001b[1;33m=\u001b[0m \u001b[0mget_columns_list\u001b[0m\u001b[1;33m(\u001b[0m\u001b[0mnotes\u001b[0m\u001b[1;33m)\u001b[0m\u001b[1;33m\u001b[0m\u001b[1;33m\u001b[0m\u001b[0m\n\u001b[0m\u001b[0;32m     36\u001b[0m     \u001b[0mbpm\u001b[0m \u001b[1;33m=\u001b[0m \u001b[0mmc_data\u001b[0m\u001b[1;33m[\u001b[0m\u001b[1;34m\"time\"\u001b[0m\u001b[1;33m]\u001b[0m\u001b[1;33m[\u001b[0m\u001b[1;36m0\u001b[0m\u001b[1;33m]\u001b[0m\u001b[1;33m[\u001b[0m\u001b[1;34m'bpm'\u001b[0m\u001b[1;33m]\u001b[0m\u001b[1;33m\u001b[0m\u001b[1;33m\u001b[0m\u001b[0m\n\u001b[0;32m     37\u001b[0m     \u001b[1;32mif\u001b[0m \u001b[1;34m\"offset\"\u001b[0m \u001b[1;32mnot\u001b[0m \u001b[1;32min\u001b[0m \u001b[0mmc_data\u001b[0m\u001b[1;33m[\u001b[0m\u001b[1;34m\"note\"\u001b[0m\u001b[1;33m]\u001b[0m\u001b[1;33m[\u001b[0m\u001b[1;33m-\u001b[0m\u001b[1;36m1\u001b[0m\u001b[1;33m]\u001b[0m\u001b[1;33m:\u001b[0m\u001b[1;33m\u001b[0m\u001b[1;33m\u001b[0m\u001b[0m\n",
      "\u001b[1;32m<ipython-input-6-e643f2dc01fa>\u001b[0m in \u001b[0;36mget_columns_list\u001b[1;34m(notes)\u001b[0m\n\u001b[0;32m     49\u001b[0m                         \u001b[0mcolumns\u001b[0m\u001b[1;33m[\u001b[0m\u001b[0mwhich_col\u001b[0m\u001b[1;33m]\u001b[0m\u001b[1;33m[\u001b[0m\u001b[0mi\u001b[0m\u001b[1;33m]\u001b[0m \u001b[1;33m=\u001b[0m \u001b[1;36m2\u001b[0m\u001b[1;33m\u001b[0m\u001b[1;33m\u001b[0m\u001b[0m\n\u001b[0;32m     50\u001b[0m             \u001b[1;32melse\u001b[0m\u001b[1;33m:\u001b[0m\u001b[1;33m\u001b[0m\u001b[1;33m\u001b[0m\u001b[0m\n\u001b[1;32m---> 51\u001b[1;33m                 \u001b[0mcolumns\u001b[0m\u001b[1;33m[\u001b[0m\u001b[0mwhich_col\u001b[0m\u001b[1;33m]\u001b[0m\u001b[1;33m[\u001b[0m\u001b[0mposition\u001b[0m\u001b[1;33m]\u001b[0m \u001b[1;33m=\u001b[0m \u001b[1;36m1\u001b[0m\u001b[1;33m\u001b[0m\u001b[1;33m\u001b[0m\u001b[0m\n\u001b[0m\u001b[0;32m     52\u001b[0m     \u001b[1;32mreturn\u001b[0m \u001b[0mcolumns_list\u001b[0m\u001b[1;33m\u001b[0m\u001b[1;33m\u001b[0m\u001b[0m\n",
      "\u001b[1;31mKeyError\u001b[0m: 4"
     ]
    }
   ],
   "source": [
    "count = 0\n",
    "X0 = []\n",
    "Y0 = []\n",
    "X1 = []\n",
    "Y1 = []\n",
    "X2 = []\n",
    "Y2 = []\n",
    "X3 = []\n",
    "Y3 = []\n",
    "\n",
    "x_ = []\n",
    "sr = 0\n",
    "for mcz_file in mcz_files:\n",
    "    if \".mcz\" not in mcz_file:\n",
    "        continue\n",
    "    print(count, mcz_file)\n",
    "    zFile = zipfile.ZipFile(\"original_beatmaps/\" + mcz_file, \"r\")\n",
    "    audio_file = \"\"\n",
    "    mc_file = \"\"\n",
    "    mc_data = {}\n",
    "    for fileM in zFile.namelist():\n",
    "        zFile.extract(fileM, './')\n",
    "        if \".mc\" in fileM:\n",
    "            mc_file = fileM\n",
    "            data = zFile.read(fileM).decode(\"utf-8\")\n",
    "            mc_data = json.loads(data)\n",
    "            print(\"\\t\", mc_data[\"meta\"][\"version\"], mc_data[\"time\"][0], mc_data[\"note\"][-1], \"\\n\")\n",
    "        elif \".ogg\" in fileM:\n",
    "            audio_file = fileM\n",
    "        elif \".mp3\" in fileM:\n",
    "            audio_file = fileM\n",
    "    \n",
    "    notes = mc_data[\"note\"]\n",
    "    notes = notes[:len(notes)-1]\n",
    "    columns_list = get_columns_list(notes)\n",
    "    bpm = mc_data[\"time\"][0]['bpm']\n",
    "    if \"offset\" not in mc_data[\"note\"][-1]:\n",
    "        offset = 0 \n",
    "    else:\n",
    "        offset = mc_data[\"note\"][-1][\"offset\"]\n",
    "    \n",
    "    print(audio_file, bpm, offset)\n",
    "    \n",
    "    x_, sr = load_audio(audio_file)\n",
    "    \n",
    "    print(len(x_), sr, \"\\n\")\n",
    "    no_ln_count = 0\n",
    "    for columns in columns_list:\n",
    "        _min, _max = get_columns_min_max(columns)\n",
    "        if (_max - _min) > 40:\n",
    "            _now = _min\n",
    "#             print(_now)\n",
    "            while (_now + 40) < _max:\n",
    "                x0, y0, x1, y1, x2, y2, x3, y3,  = get_one_data(_now, _now+40, columns, bpm, x_, sr, offset)\n",
    "                X0.append(x0)\n",
    "                Y0.append(y0)\n",
    "                if len(y1) >= 1:    \n",
    "                    X1.append(x1)\n",
    "                    Y1.append(y1)\n",
    "                \n",
    "                \n",
    "                if len(y3) > 0:\n",
    "                    X2.append(x2)\n",
    "                    Y2.append(y2)\n",
    "                    X3.append(x3)\n",
    "                    Y3.append(y3)\n",
    "                elif (len(y1) >= 1) and (no_ln_count < 15):\n",
    "                    X2.append(x2)\n",
    "                    Y2.append(y2)\n",
    "                    no_ln_count += 1\n",
    "                \n",
    "                _now += 38\n",
    "            \n",
    "#     break\n",
    "    count += 1"
   ]
  },
  {
   "cell_type": "code",
   "execution_count": 10,
   "metadata": {
    "tags": []
   },
   "outputs": [
    {
     "output_type": "stream",
     "name": "stdout",
     "text": "64\n"
    }
   ],
   "source": [
    "print(len(X0[0][0]))"
   ]
  },
  {
   "cell_type": "code",
   "execution_count": 11,
   "metadata": {
    "tags": []
   },
   "outputs": [
    {
     "output_type": "stream",
     "name": "stdout",
     "text": "34\n"
    }
   ],
   "source": [
    "print(len(X0))"
   ]
  },
  {
   "cell_type": "code",
   "execution_count": 12,
   "metadata": {
    "tags": []
   },
   "outputs": [
    {
     "output_type": "stream",
     "name": "stdout",
     "text": "34\n"
    }
   ],
   "source": [
    "print(len(X1))"
   ]
  },
  {
   "cell_type": "code",
   "execution_count": 13,
   "metadata": {
    "tags": []
   },
   "outputs": [
    {
     "output_type": "stream",
     "name": "stdout",
     "text": "34\n"
    }
   ],
   "source": [
    "print(len(X2))"
   ]
  },
  {
   "cell_type": "code",
   "execution_count": 14,
   "metadata": {
    "tags": []
   },
   "outputs": [
    {
     "output_type": "stream",
     "name": "stdout",
     "text": "23\n"
    }
   ],
   "source": [
    "print(len(X3))"
   ]
  },
  {
   "cell_type": "code",
   "execution_count": 15,
   "metadata": {},
   "outputs": [],
   "source": [
    "with open(\"dataset.json\", \"w\") as f:\n",
    "    json.dump({\n",
    "        \"X0\": X0,\n",
    "        \"Y0\": Y0,\n",
    "        \"X1\": X1,\n",
    "        \"Y1\": Y1,\n",
    "        \"X2\": X2,\n",
    "        \"Y2\": Y2,\n",
    "        \"X3\": X3,\n",
    "        \"Y3\": Y3,\n",
    "    }, f)"
   ]
  },
  {
   "cell_type": "code",
   "execution_count": 16,
   "metadata": {
    "tags": []
   },
   "outputs": [
    {
     "output_type": "stream",
     "name": "stdout",
     "text": "2 4 2 2 4 4 1 8 1 8 2 4 8 2 4 8 4 2 8 4 2 8\n8 2 4 8 2 4 2 4 2 2 4 4 1 2 8 1 2 8 1 2 8 1 2\n1 2 8 1 4 1 4 8 2 8 2 3 12 3 4 2\n4 2 8 4 1 2 4 8 10 4 2 4 4 2 4 2 4 4 2\n4 1 4 3 3 12 12 3 12 3 12 3 12 3 12\n3 3 12 4 11 2 12 1 10 4 3 2 13 4 3 8 3 12 3\n12 3 12 3 4 11 2 12 1 10 4 3 2 13 4 11 6 3 2 13\n13 4 3 8 10 2 13 2 5 8 3 12 3 12 3 2 13 4 10 2\n2 5 4 11 2 13 4 11 2 13 4 3 6 12 1 10 2 6 2 9\n4 1 4 3 2 5 4 10 2 5 4 11 3 13 12 7 3 14 12 11 11\n11 13 13 7 7 14 14 13 10 5 10\n10 1 2 4 8 3 12 3 6 12 3 6 12 3 12 6 9\n9 2 12 1 4 1 8 2 8 1 12 6 3 12 1 2 4 8 3 6 12\n2 8 2 7 4 2 8 4 8 2 8 2 1\n1 4 2 3 6 12 1 2 4\n4 8 2 4 1 12 6 1 2 4 8 1 2 4 8 3 12 3 12 3\n12 3 12 3 12 3 13 6 11 6 4 11 4 3 8 5 2 12 2\n3 12 2 9 4 3 8 5 2 13 4 11 2 13 4 3 12 3 8 4\n3 12 2 9 4 11 2 13 4 11 2 4 3 12 3 12 3\n4 1 12 3 3 6 5 4 2\n2 4 8 4 2 4 8 4 2\n2 1 2 4 2 1 2 4 8\n8 4 2 4 8 4 2 1 4 2 8 4 1 2 4 8 2 4 1 2 8 4 2 1\n8 4 2 1 4 2 8 4 3 8 4 3 12 1 2 12 3 5 12 10\n10 1 2 4 8 3 8 4 3 12 1 2 12 3 4 1 2 4 2 1 2 4 2 5 10 1 2 12\n2 12 3 12 2 1 12 1 2 12 3 4 2 8 4 3 8 4 3 12 3 12 3 12 3 5 12\n12 10 3 4 2 1 2 4 3 12 3 6 12 3 8 4 3 12 1 2 12\n2 12 3 4 3 6 12 1 2 4 8 3 8 4 3 12 1 2 12 6 2 8\n8 4 2 4 8 4 2 4 10 5 8 4 3 12 3 8 4 3 8 4 3 12 2 4 1 2 12 1 2 12 3\n3 12 12 12 10 3 5 12 2 4 8 4 2 1\n1 2 4 2 5 4 11 2 12 1 12 3 12 3 12 2 13 4 3 2 13 4 10 2\n2 13 4 2 1 4 8 2 1 4 8 3 6 3 6 12 3 4 11 2 12\n12 1 10 4 3 12 3 4 10 1 12 6 9 5 10 9 5 10 9 6\n6 9 2 4 2 9 4 2 4 9 2 12 3 12 3 12 6 3 12 1 2 4 8 3 12\n"
    }
   ],
   "source": [
    "with open(\"glove/malody.txt\", \"w\") as f:\n",
    "    for y1 in Y1:\n",
    "        strs = [str(i) for i in y1]\n",
    "        line = \" \".join(strs)\n",
    "        print(line)\n",
    "        f.write(line + \"\\n\")"
   ]
  },
  {
   "cell_type": "code",
   "execution_count": 17,
   "metadata": {
    "tags": []
   },
   "outputs": [
    {
     "output_type": "stream",
     "name": "stdout",
     "text": "1 1 1 1 1 1 1 1 1 1 1 1 1 1 1 1 1 1 1 1 1 1 1 1\n1 1 1 1 1 1 1\n1 1 1 1 1 8 8 8 8 8 1 1 1 1 1 8 8 8 8 8\n1 1 1 1 1\n12 12 12 5 5 5 10 10 10\n12 12 12 12 12\n5 5 5 5\n8 8 8 8 8 1 1 1 1 1 1 1 8 8 8 8 8 8 8\n8 8 1 1 1 1 1 1 1 8 8 8 8 8 8 8\n8 8 8 8 8\n8 8 8 8 8 8 8 8 8 8 8 8 8 8 8 8 8 8 8 8 8 8 1\n1 1 1 1 1 1 1 1 1 1 1 1 1 1 1 1 1 1 1 1 1 1 1 1 1 1 1 1 1 1 1 1 1 1 1 1 9 8 8\n8 8 8 8 8 8 8 8 8 8 8 8 8 8 8 8 8 8 8 8 8 8 8 8 8 8 8 8 8 8 8 9 1 1 1 1 1 1 1 1\n1 1 1 1 1 1 1 1 1 1 1 1 1 1 1 1 1 1 8 8 10\n8 10 2 6 4 5 1 1 8 8 8 2 2 2 1 1 1\n1 1 4 4 4 8 8 8 8 8 8 8 8 8 8 8\n8 8 8 2 2 2\n2 2 1 1 1 4 4 4 8 8 8 8 8 8 8 8 8\n8 8 8 1 1 1\n1 1 1 1 1 1 1 1 1 1\n1 1 1 4 4 4 8 8 8 2 2 2 1 1 1 1 1 1 1 1 9 8 8 8 8 8 8\n8 8 8 8 8 8\n12 12 12 12 12\n"
    }
   ],
   "source": [
    "with open(\"glove/malody2.txt\", \"w\") as f:\n",
    "    for y3 in Y3:\n",
    "        strs = [str(i) for i in y3]\n",
    "        if len(strs) > 0:\n",
    "            line = \" \".join(strs)\n",
    "            print(line)\n",
    "            f.write(line + \"\\n\")"
   ]
  }
 ],
 "metadata": {
  "kernelspec": {
   "display_name": "Python 3.7.4 64-bit ('base': conda)",
   "language": "python",
   "name": "python_defaultSpec_1597796536462"
  },
  "language_info": {
   "codemirror_mode": {
    "name": "ipython",
    "version": 3
   },
   "file_extension": ".py",
   "mimetype": "text/x-python",
   "name": "python",
   "nbconvert_exporter": "python",
   "pygments_lexer": "ipython3",
   "version": "3.7.4-final"
  }
 },
 "nbformat": 4,
 "nbformat_minor": 2
}